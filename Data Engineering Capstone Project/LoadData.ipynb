{
  "nbformat": 4,
  "nbformat_minor": 0,
  "metadata": {
    "kernelspec": {
      "display_name": "Python 3",
      "language": "python",
      "name": "python3"
    },
    "language_info": {
      "codemirror_mode": {
        "name": "ipython",
        "version": 3
      },
      "file_extension": ".py",
      "mimetype": "text/x-python",
      "name": "python",
      "nbconvert_exporter": "python",
      "pygments_lexer": "ipython3",
      "version": "3.6.3"
    },
    "colab": {
      "name": "LoadData.ipynb",
      "provenance": []
    }
  },
  "cells": [
    {
      "cell_type": "code",
      "metadata": {
        "id": "rb8IUuBFTgsM",
        "colab_type": "code",
        "colab": {}
      },
      "source": [
        "import configparser\n",
        "from datetime import datetime,timedelta\n",
        "import os\n",
        "from pyspark.sql import SparkSession\n",
        "import pyspark.sql.functions as F\n",
        "from pyspark.sql.types import *\n",
        "import sql_queries as sql\n",
        "import pandas as pd"
      ],
      "execution_count": 0,
      "outputs": []
    },
    {
      "cell_type": "code",
      "metadata": {
        "id": "TywbubJWTgsS",
        "colab_type": "code",
        "colab": {}
      },
      "source": [
        "config = configparser.ConfigParser()\n",
        "config.read('aws.cfg')\n",
        "os.environ['AWS_ACCESS_KEY_ID']=config[\"CREDENTIALS\"]['AWS_ACCESS_KEY_ID']\n",
        "os.environ['AWS_SECRET_ACCESS_KEY']=config[\"CREDENTIALS\"]['AWS_SECRET_ACCESS_KEY']\n",
        "AWS_ACCESS_KEY=config[\"CREDENTIALS\"]['AWS_ACCESS_KEY_ID']\n",
        "AWS_SECRET_KEY=config[\"CREDENTIALS\"]['AWS_SECRET_ACCESS_KEY']"
      ],
      "execution_count": 0,
      "outputs": []
    },
    {
      "cell_type": "code",
      "metadata": {
        "id": "CaK4_wEdTgsW",
        "colab_type": "code",
        "colab": {}
      },
      "source": [
        "spark = SparkSession.builder \\\n",
        "    .config(\"fs.s3a.awsAccessKeyId\", AWS_ACCESS_KEY)\\\n",
        "    .config(\"fs.s3a.awsSecretAccessKey\", AWS_SECRET_KEY)\\\n",
        "    .config(\"spark.jars.packages\", \"org.apache.hadoop:hadoop-aws:2.7.3,org.postgresql:postgresql:42.2.6\")\\\n",
        "    .getOrCreate()"
      ],
      "execution_count": 0,
      "outputs": []
    },
    {
      "cell_type": "code",
      "metadata": {
        "id": "ibh7DcLZTgsa",
        "colab_type": "code",
        "colab": {}
      },
      "source": [
        "## Source: https://www1.nyc.gov/site/nypd/stats/crime-statistics/historical.page\n",
        "nycrime_df = spark.read.csv(\"s3a://udacity-cap-bs/NY_Crimes_2016.csv\",header=True)"
      ],
      "execution_count": 0,
      "outputs": []
    },
    {
      "cell_type": "code",
      "metadata": {
        "id": "0bm-1HTDTgse",
        "colab_type": "code",
        "colab": {}
      },
      "source": [
        "start=datetime.now()"
      ],
      "execution_count": 0,
      "outputs": []
    },
    {
      "cell_type": "code",
      "metadata": {
        "id": "vxfb3VNbTgsl",
        "colab_type": "code",
        "colab": {}
      },
      "source": [
        "nycrime_df.repartition(10).write.parquet(os.path.join(\"data\", 'nycrime.parquet'), 'overwrite')"
      ],
      "execution_count": 0,
      "outputs": []
    },
    {
      "cell_type": "code",
      "metadata": {
        "id": "6mh6PXkfTgs2",
        "colab_type": "code",
        "colab": {},
        "outputId": "07be5b49-b7f4-4f40-8312-f1fc9e3e32e5"
      },
      "source": [
        "print(datetime.now()-start)"
      ],
      "execution_count": 0,
      "outputs": [
        {
          "output_type": "stream",
          "text": [
            "0:00:30.310535\n"
          ],
          "name": "stdout"
        }
      ]
    },
    {
      "cell_type": "code",
      "metadata": {
        "id": "S-lsuO7rTgs8",
        "colab_type": "code",
        "colab": {}
      },
      "source": [
        "airbnb_df = spark.read.csv(\"s3a://udacity-cap-bs/AB_NYC_2019.csv\",header=True)"
      ],
      "execution_count": 0,
      "outputs": []
    },
    {
      "cell_type": "code",
      "metadata": {
        "id": "g_hNcl0iTgtB",
        "colab_type": "code",
        "colab": {}
      },
      "source": [
        "airbnb_df.write.parquet(os.path.join(\"data\", 'airbnb.parquet'), 'overwrite')"
      ],
      "execution_count": 0,
      "outputs": []
    },
    {
      "cell_type": "code",
      "metadata": {
        "id": "xeSS6u3CTgtF",
        "colab_type": "code",
        "colab": {}
      },
      "source": [
        "## Source: https://www.kaggle.com/mathijs/weather-data-in-new-york-city-2016\n",
        "clima_df = spark.read.csv(\"s3a://udacity-cap-bs/weather_data_nyc_centralpark_2016.csv\",header=True)"
      ],
      "execution_count": 0,
      "outputs": []
    },
    {
      "cell_type": "code",
      "metadata": {
        "id": "j802iqMoTgtI",
        "colab_type": "code",
        "colab": {}
      },
      "source": [
        "for col in clima_df.columns:\n",
        "    clima_df = clima_df.withColumnRenamed(col, col.replace(\" \",\"\"))\n",
        "clima_df.write.parquet(os.path.join(\"data\", 'clima.parquet'), 'overwrite')"
      ],
      "execution_count": 0,
      "outputs": []
    },
    {
      "cell_type": "code",
      "metadata": {
        "id": "et1Ge4vsTgtM",
        "colab_type": "code",
        "colab": {}
      },
      "source": [
        ""
      ],
      "execution_count": 0,
      "outputs": []
    }
  ]
}